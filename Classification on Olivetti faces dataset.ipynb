{
  "nbformat": 4,
  "nbformat_minor": 0,
  "metadata": {
    "colab": {
      "provenance": []
    },
    "kernelspec": {
      "name": "python3",
      "display_name": "Python 3"
    },
    "language_info": {
      "name": "python"
    }
  },
  "cells": [
    {
      "cell_type": "code",
      "source": [
        "# import the necessary packages\n",
        "from torch.nn import Module\n",
        "from torch.nn import Conv2d\n",
        "from torch.nn import Linear\n",
        "from torch.nn import MaxPool2d\n",
        "from torch.nn import ReLU\n",
        "from torch.nn import LogSoftmax\n",
        "from torch import flatten\n",
        "from sklearn.metrics import classification_report\n",
        "from torch.utils.data import random_split\n",
        "from torch.utils.data import DataLoader, Dataset\n",
        "from torchvision.transforms import ToTensor\n",
        "from torch.optim import Adam\n",
        "from torch import nn\n",
        "import matplotlib.pyplot as plt\n",
        "import numpy as np\n",
        "import pandas as pd\n",
        "import torch.nn as nn\n",
        "import torch.optim as optim\n",
        "import torch\n",
        "from sklearn.model_selection import train_test_split"
      ],
      "metadata": {
        "id": "62wDAuoM9y7D"
      },
      "execution_count": 1,
      "outputs": []
    },
    {
      "cell_type": "code",
      "source": [
        "from sklearn.datasets import fetch_olivetti_faces\n",
        "olivetti = fetch_olivetti_faces()\n",
        "x = olivetti.images\n",
        "y = olivetti.target"
      ],
      "metadata": {
        "colab": {
          "base_uri": "https://localhost:8080/"
        },
        "id": "pPGYP1do-a6C",
        "outputId": "f9606d9c-2d7a-4cf2-da77-2c1b8d33d82e"
      },
      "execution_count": 2,
      "outputs": [
        {
          "output_type": "stream",
          "name": "stdout",
          "text": [
            "downloading Olivetti faces from https://ndownloader.figshare.com/files/5976027 to /root/scikit_learn_data\n"
          ]
        }
      ]
    },
    {
      "cell_type": "code",
      "source": [
        "# checking if CUDA is available\n",
        "train_on_gpu = torch.cuda.is_available()\n",
        "\n",
        "if not train_on_gpu:\n",
        "    print('CUDA is not available.  Training on CPU ...')\n",
        "else:\n",
        "    print('CUDA is available!  Training on GPU ...')"
      ],
      "metadata": {
        "colab": {
          "base_uri": "https://localhost:8080/"
        },
        "id": "MW2878l0AF8_",
        "outputId": "4872732f-53bf-4691-d26d-770c8b09ab33"
      },
      "execution_count": 3,
      "outputs": [
        {
          "output_type": "stream",
          "name": "stdout",
          "text": [
            "CUDA is not available.  Training on CPU ...\n"
          ]
        }
      ]
    },
    {
      "cell_type": "markdown",
      "source": [
        "## Creating CNN architecture for A model"
      ],
      "metadata": {
        "id": "y9t9oTolK0St"
      }
    },
    {
      "cell_type": "code",
      "source": [
        "class NetA(nn.Module):\n",
        "  def __init__(self):\n",
        "    super().__init__()\n",
        "    self.network=nn.Sequential(\n",
        "        nn.Conv2d(3, 32, kernel_size=3, stride=1),\n",
        "        nn.MaxPool2d(3, stride=1),\n",
        "        nn.Conv2d(32,64,kernel_size=3, stride=1),\n",
        "        nn.MaxPool2d(3, stride=1),\n",
        "        nn.Conv2d(64,128,kernel_size=3, stride=1),\n",
        "        nn.MaxPool2d(3, stride=1),\n",
        "        nn.Flatten(),\n",
        "        nn.Linear(51200,10))\n",
        "        \n",
        "  def forward(self, x):\n",
        "    return self.network(x)\n",
        "\n",
        "#Creating a CNN architecture\n",
        "modelA = NetA()\n",
        "print(modelA)"
      ],
      "metadata": {
        "id": "ncGeehTKI0YU",
        "colab": {
          "base_uri": "https://localhost:8080/"
        },
        "outputId": "064a85f4-bd1e-4e76-b1dd-09eba22aff42"
      },
      "execution_count": 4,
      "outputs": [
        {
          "output_type": "stream",
          "name": "stdout",
          "text": [
            "NetA(\n",
            "  (network): Sequential(\n",
            "    (0): Conv2d(3, 32, kernel_size=(3, 3), stride=(1, 1))\n",
            "    (1): MaxPool2d(kernel_size=3, stride=1, padding=0, dilation=1, ceil_mode=False)\n",
            "    (2): Conv2d(32, 64, kernel_size=(3, 3), stride=(1, 1))\n",
            "    (3): MaxPool2d(kernel_size=3, stride=1, padding=0, dilation=1, ceil_mode=False)\n",
            "    (4): Conv2d(64, 128, kernel_size=(3, 3), stride=(1, 1))\n",
            "    (5): MaxPool2d(kernel_size=3, stride=1, padding=0, dilation=1, ceil_mode=False)\n",
            "    (6): Flatten(start_dim=1, end_dim=-1)\n",
            "    (7): Linear(in_features=51200, out_features=10, bias=True)\n",
            "  )\n",
            ")\n"
          ]
        }
      ]
    },
    {
      "cell_type": "markdown",
      "source": [
        "## Creating a CNN Architecture for B model"
      ],
      "metadata": {
        "id": "Fergtw8QK-0v"
      }
    },
    {
      "cell_type": "code",
      "source": [
        "class NetB(nn.Module):\n",
        "  def __init__(self):\n",
        "    super().__init__()\n",
        "    self.network=nn.Sequential(\n",
        "        nn.Conv2d(3, 32, kernel_size=3, stride=1),\n",
        "        nn.Conv2d(32,64,kernel_size=3, stride=1),\n",
        "        nn.MaxPool2d(3, stride=1),\n",
        "        nn.Conv2d(64,128,kernel_size=3, stride=1),\n",
        "        nn.Conv2d(128,256,kernel_size=3, stride=1),\n",
        "        nn.MaxPool2d(3, stride=1),\n",
        "        nn.Flatten(),\n",
        "        nn.Linear(102400, 10)\n",
        "        )\n",
        "        \n",
        "  \n",
        "  def forward(self, x):\n",
        "    return self.network(x)\n",
        "\n",
        "#Creating a CNN architecture\n",
        "modelB = NetB()\n",
        "print(modelB)"
      ],
      "metadata": {
        "colab": {
          "base_uri": "https://localhost:8080/"
        },
        "id": "Buf3ejC5KPUx",
        "outputId": "20420b85-311b-418e-888a-cdac39dbd945"
      },
      "execution_count": 5,
      "outputs": [
        {
          "output_type": "stream",
          "name": "stdout",
          "text": [
            "NetB(\n",
            "  (network): Sequential(\n",
            "    (0): Conv2d(3, 32, kernel_size=(3, 3), stride=(1, 1))\n",
            "    (1): Conv2d(32, 64, kernel_size=(3, 3), stride=(1, 1))\n",
            "    (2): MaxPool2d(kernel_size=3, stride=1, padding=0, dilation=1, ceil_mode=False)\n",
            "    (3): Conv2d(64, 128, kernel_size=(3, 3), stride=(1, 1))\n",
            "    (4): Conv2d(128, 256, kernel_size=(3, 3), stride=(1, 1))\n",
            "    (5): MaxPool2d(kernel_size=3, stride=1, padding=0, dilation=1, ceil_mode=False)\n",
            "    (6): Flatten(start_dim=1, end_dim=-1)\n",
            "    (7): Linear(in_features=102400, out_features=10, bias=True)\n",
            "  )\n",
            ")\n"
          ]
        }
      ]
    },
    {
      "cell_type": "markdown",
      "source": [
        "## Creating a CNN architecture for C model"
      ],
      "metadata": {
        "id": "CSF_ST9MLHEg"
      }
    },
    {
      "cell_type": "code",
      "source": [
        "class NetC(nn.Module):\n",
        "  def __init__(self):\n",
        "    super().__init__()\n",
        "    self.network=nn.Sequential(\n",
        "        nn.Conv2d(3, 32, kernel_size=3, stride=1),\n",
        "        nn.MaxPool2d(3, stride=1),\n",
        "        nn.Conv2d(32, 64, kernel_size=3, stride=1),\n",
        "        nn.MaxPool2d(3, stride=1),\n",
        "        nn.Conv2d(64, 128, kernel_size=3, stride=1),\n",
        "        nn.MaxPool2d(3, stride=1),\n",
        "        nn.Flatten(),\n",
        "        nn.Linear(51200, 10),\n",
        "        nn.Flatten(),\n",
        "        nn.Linear(10, 25600))\n",
        "  \n",
        "  def forward(self, x):\n",
        "    return self.network(x)\n",
        "\n",
        "#Creating a CNN architecture\n",
        "modelC = NetC()\n",
        "print(modelC)"
      ],
      "metadata": {
        "colab": {
          "base_uri": "https://localhost:8080/"
        },
        "id": "gM02U1qiKavl",
        "outputId": "d7b62c4e-1c86-4efc-b0e1-77700ba6f813"
      },
      "execution_count": 6,
      "outputs": [
        {
          "output_type": "stream",
          "name": "stdout",
          "text": [
            "NetC(\n",
            "  (network): Sequential(\n",
            "    (0): Conv2d(3, 32, kernel_size=(3, 3), stride=(1, 1))\n",
            "    (1): MaxPool2d(kernel_size=3, stride=1, padding=0, dilation=1, ceil_mode=False)\n",
            "    (2): Conv2d(32, 64, kernel_size=(3, 3), stride=(1, 1))\n",
            "    (3): MaxPool2d(kernel_size=3, stride=1, padding=0, dilation=1, ceil_mode=False)\n",
            "    (4): Conv2d(64, 128, kernel_size=(3, 3), stride=(1, 1))\n",
            "    (5): MaxPool2d(kernel_size=3, stride=1, padding=0, dilation=1, ceil_mode=False)\n",
            "    (6): Flatten(start_dim=1, end_dim=-1)\n",
            "    (7): Linear(in_features=51200, out_features=10, bias=True)\n",
            "    (8): Flatten(start_dim=1, end_dim=-1)\n",
            "    (9): Linear(in_features=10, out_features=25600, bias=True)\n",
            "  )\n",
            ")\n"
          ]
        }
      ]
    },
    {
      "cell_type": "code",
      "source": [],
      "metadata": {
        "id": "MxUXxceb9Atl"
      },
      "execution_count": null,
      "outputs": []
    },
    {
      "cell_type": "code",
      "execution_count": 12,
      "metadata": {
        "colab": {
          "base_uri": "https://localhost:8080/"
        },
        "id": "zJi9Fn_1gMWb",
        "outputId": "d617280e-6525-453a-88ee-9a1d114ecdac"
      },
      "outputs": [
        {
          "output_type": "stream",
          "name": "stdout",
          "text": [
            "Epoch 1/20\n",
            "10/10 [==============================] - 5s 303ms/step - loss: 3.7157 - accuracy: 0.0188 - val_loss: 3.6917 - val_accuracy: 0.0125\n",
            "Epoch 2/20\n",
            "10/10 [==============================] - 2s 212ms/step - loss: 3.6895 - accuracy: 0.0188 - val_loss: 3.6991 - val_accuracy: 0.0125\n",
            "Epoch 3/20\n",
            "10/10 [==============================] - 2s 216ms/step - loss: 3.6848 - accuracy: 0.0312 - val_loss: 3.7119 - val_accuracy: 0.0000e+00\n",
            "Epoch 4/20\n",
            "10/10 [==============================] - 2s 212ms/step - loss: 3.6770 - accuracy: 0.0312 - val_loss: 3.7304 - val_accuracy: 0.0000e+00\n",
            "Epoch 5/20\n",
            "10/10 [==============================] - 2s 213ms/step - loss: 3.6613 - accuracy: 0.0344 - val_loss: 3.7056 - val_accuracy: 0.0000e+00\n",
            "Epoch 6/20\n",
            "10/10 [==============================] - 3s 351ms/step - loss: 3.6193 - accuracy: 0.0719 - val_loss: 3.7223 - val_accuracy: 0.0000e+00\n",
            "Epoch 7/20\n",
            "10/10 [==============================] - 2s 216ms/step - loss: 3.5088 - accuracy: 0.1250 - val_loss: 3.7138 - val_accuracy: 0.0500\n",
            "Epoch 8/20\n",
            "10/10 [==============================] - 2s 214ms/step - loss: 3.2842 - accuracy: 0.2031 - val_loss: 3.4752 - val_accuracy: 0.1250\n",
            "Epoch 9/20\n",
            "10/10 [==============================] - 2s 220ms/step - loss: 2.8747 - accuracy: 0.3156 - val_loss: 3.1624 - val_accuracy: 0.1625\n",
            "Epoch 10/20\n",
            "10/10 [==============================] - 2s 219ms/step - loss: 2.1772 - accuracy: 0.4812 - val_loss: 2.5444 - val_accuracy: 0.3625\n",
            "Epoch 11/20\n",
            "10/10 [==============================] - 3s 324ms/step - loss: 1.6067 - accuracy: 0.5875 - val_loss: 1.8489 - val_accuracy: 0.5250\n",
            "Epoch 12/20\n",
            "10/10 [==============================] - 2s 227ms/step - loss: 1.0189 - accuracy: 0.7563 - val_loss: 1.5313 - val_accuracy: 0.6375\n",
            "Epoch 13/20\n",
            "10/10 [==============================] - 2s 217ms/step - loss: 0.7376 - accuracy: 0.8062 - val_loss: 1.2684 - val_accuracy: 0.6000\n",
            "Epoch 14/20\n",
            "10/10 [==============================] - 2s 217ms/step - loss: 0.5470 - accuracy: 0.8469 - val_loss: 0.9097 - val_accuracy: 0.7125\n",
            "Epoch 15/20\n",
            "10/10 [==============================] - 2s 213ms/step - loss: 0.3260 - accuracy: 0.9281 - val_loss: 0.6808 - val_accuracy: 0.8125\n",
            "Epoch 16/20\n",
            "10/10 [==============================] - 3s 256ms/step - loss: 0.2120 - accuracy: 0.9594 - val_loss: 0.4961 - val_accuracy: 0.8625\n",
            "Epoch 17/20\n",
            "10/10 [==============================] - 3s 291ms/step - loss: 0.1334 - accuracy: 0.9719 - val_loss: 0.5833 - val_accuracy: 0.8375\n",
            "Epoch 18/20\n",
            "10/10 [==============================] - 2s 222ms/step - loss: 0.0741 - accuracy: 0.9969 - val_loss: 0.3023 - val_accuracy: 0.9250\n",
            "Epoch 19/20\n",
            "10/10 [==============================] - 2s 220ms/step - loss: 0.0660 - accuracy: 0.9875 - val_loss: 0.3801 - val_accuracy: 0.9000\n",
            "Epoch 20/20\n",
            "10/10 [==============================] - 2s 213ms/step - loss: 0.0458 - accuracy: 0.9969 - val_loss: 0.3779 - val_accuracy: 0.9125\n",
            "Epoch 1/10\n",
            "10/10 [==============================] - 4s 348ms/step - loss: 3.7047 - accuracy: 0.0125 - val_loss: 3.6948 - val_accuracy: 0.0500\n",
            "Epoch 2/10\n",
            "10/10 [==============================] - 3s 242ms/step - loss: 3.6874 - accuracy: 0.0406 - val_loss: 3.7080 - val_accuracy: 0.0000e+00\n",
            "Epoch 3/10\n",
            "10/10 [==============================] - 2s 225ms/step - loss: 3.6842 - accuracy: 0.0437 - val_loss: 3.7220 - val_accuracy: 0.0000e+00\n",
            "Epoch 4/10\n",
            "10/10 [==============================] - 2s 223ms/step - loss: 3.6748 - accuracy: 0.0344 - val_loss: 3.7325 - val_accuracy: 0.0000e+00\n",
            "Epoch 5/10\n",
            "10/10 [==============================] - 2s 225ms/step - loss: 3.6558 - accuracy: 0.0312 - val_loss: 3.7229 - val_accuracy: 0.0000e+00\n",
            "Epoch 6/10\n",
            "10/10 [==============================] - 3s 305ms/step - loss: 3.5893 - accuracy: 0.0688 - val_loss: 3.7324 - val_accuracy: 0.0125\n",
            "Epoch 7/10\n",
            "10/10 [==============================] - 3s 259ms/step - loss: 3.3900 - accuracy: 0.1344 - val_loss: 3.5001 - val_accuracy: 0.0750\n",
            "Epoch 8/10\n",
            "10/10 [==============================] - 2s 222ms/step - loss: 2.9616 - accuracy: 0.2062 - val_loss: 3.1431 - val_accuracy: 0.1250\n",
            "Epoch 9/10\n",
            "10/10 [==============================] - 2s 219ms/step - loss: 2.2706 - accuracy: 0.3781 - val_loss: 2.4878 - val_accuracy: 0.4000\n",
            "Epoch 10/10\n",
            "10/10 [==============================] - 3s 279ms/step - loss: 1.5168 - accuracy: 0.6187 - val_loss: 1.7396 - val_accuracy: 0.5000\n",
            "3/3 [==============================] - 0s 41ms/step - loss: 1.7396 - accuracy: 0.5000\n",
            "Test accuracy: 0.5\n"
          ]
        }
      ],
      "source": [
        "import tensorflow as tf\n",
        "from sklearn.datasets import fetch_olivetti_faces\n",
        "from sklearn.model_selection import train_test_split\n",
        "\n",
        "# Load the data\n",
        "olivetti = fetch_olivetti_faces()\n",
        "X = olivetti.images\n",
        "y = olivetti.target\n",
        "\n",
        "# Preprocess the data\n",
        "X = X.reshape((X.shape[0], 64, 64, 1))\n",
        "X_train, X_test, y_train, y_test = train_test_split(X, y, test_size=0.2, random_state=42)\n",
        "y_train = tf.keras.utils.to_categorical(y_train)\n",
        "y_test = tf.keras.utils.to_categorical(y_test)\n",
        "\n",
        "# Define the model architecture\n",
        "model = tf.keras.models.Sequential([\n",
        "    tf.keras.layers.Conv2D(32, (3,3), activation='relu', input_shape=(64,64,1)),\n",
        "    tf.keras.layers.MaxPooling2D((2,2)),\n",
        "    tf.keras.layers.Conv2D(64, (3,3), activation='relu'),\n",
        "    tf.keras.layers.MaxPooling2D((2,2)),\n",
        "    tf.keras.layers.Conv2D(128, (3,3), activation='relu'),\n",
        "    tf.keras.layers.MaxPooling2D((2,2)),\n",
        "    tf.keras.layers.Flatten(),\n",
        "    tf.keras.layers.Dense(128, activation='relu'),\n",
        "    tf.keras.layers.Dense(40, activation='softmax')\n",
        "])\n",
        "\n",
        "# Compile the model\n",
        "model.compile(optimizer='adam', loss='categorical_crossentropy', metrics=['accuracy'])\n",
        "\n",
        "# Train the model\n",
        "model.fit(X_train, y_train, epochs=20, batch_size=32, validation_data=(X_test, y_test))\n",
        "\n",
        "\"\"\"**ARCHITECTURE B**\"\"\"\n",
        "\n",
        "import torch\n",
        "import torch.nn as nn\n",
        "\n",
        "class CNN(nn.Module):\n",
        "    def __init__(self, num_classes):\n",
        "        super(CNN, self).__init__()\n",
        "        \n",
        "        # Convolutional layers\n",
        "        self.conv1 = nn.Conv2d(1, 32, kernel_size=3, stride=1, padding=1)\n",
        "        self.conv2 = nn.Conv2d(32, 64, kernel_size=3, stride=1, padding=1)\n",
        "        self.pool1 = nn.MaxPool2d(kernel_size=2, stride=2)\n",
        "        self.conv3 = nn.Conv2d(64, 128, kernel_size=3, stride=1, padding=1)\n",
        "        self.conv4 = nn.Conv2d(128, 256, kernel_size=3, stride=1, padding=1)\n",
        "        self.pool2 = nn.MaxPool2d(kernel_size=2, stride=2)\n",
        "        \n",
        "        # Fully connected layer\n",
        "        self.fc = nn.Linear(256 * 6 * 6, num_classes)\n",
        "        \n",
        "    def forward(self, x):\n",
        "        # Convolutional layers\n",
        "        x = self.conv1(x)\n",
        "        x = nn.ReLU()(x)\n",
        "        x = self.conv2(x)\n",
        "        x = nn.ReLU()(x)\n",
        "        x = self.pool1(x)\n",
        "        x = self.conv3(x)\n",
        "        x = nn.ReLU()(x)\n",
        "        x = self.conv4(x)\n",
        "        x = nn.ReLU()(x)\n",
        "        x = self.pool2(x)\n",
        "        \n",
        "        # Flatten and fully connected layer\n",
        "        x = torch.flatten(x, 1)\n",
        "        x = self.fc(x)\n",
        "        \n",
        "        return x\n",
        "\n",
        "\"\"\"**ARCHITECTURE C**\"\"\"\n",
        "\n",
        "import numpy as np\n",
        "import tensorflow as tf\n",
        "from sklearn.datasets import fetch_olivetti_faces\n",
        "from sklearn.model_selection import train_test_split\n",
        "\n",
        "# Load the Olivetti faces dataset\n",
        "faces = fetch_olivetti_faces()\n",
        "X = faces.data.reshape(-1, 64, 64, 1)  # Reshape the input data to a 4D tensor\n",
        "y = faces.target\n",
        "X_train, X_test, y_train, y_test = train_test_split(X, y, test_size=0.2, random_state=42)\n",
        "\n",
        "# Define the CNN architecture\n",
        "model = tf.keras.Sequential([\n",
        "    tf.keras.layers.Conv2D(filters=32, kernel_size=(3, 3), activation='relu', input_shape=(64, 64, 1)),\n",
        "    tf.keras.layers.MaxPooling2D(pool_size=(2, 2)),\n",
        "    tf.keras.layers.Conv2D(filters=64, kernel_size=(3, 3), activation='relu'),\n",
        "    tf.keras.layers.MaxPooling2D(pool_size=(2, 2)),\n",
        "    tf.keras.layers.Conv2D(filters=128, kernel_size=(3, 3), activation='relu'),\n",
        "    tf.keras.layers.MaxPooling2D(pool_size=(2, 2)),\n",
        "    tf.keras.layers.Flatten(),\n",
        "    tf.keras.layers.Dense(units=256, activation='relu'),\n",
        "    tf.keras.layers.Dense(units=128, activation='relu'),\n",
        "    tf.keras.layers.Dense(units=40, activation='softmax')\n",
        "])\n",
        "\n",
        "# Compile the model\n",
        "model.compile(loss='sparse_categorical_crossentropy', optimizer='adam', metrics=['accuracy'])\n",
        "\n",
        "# Train the model\n",
        "history = model.fit(X_train, y_train, batch_size=32, epochs=10, validation_data=(X_test, y_test))\n",
        "\n",
        "# Evaluate the model\n",
        "test_loss, test_acc = model.evaluate(X_test, y_test)\n",
        "print('Test accuracy:', test_acc)"
      ]
    },
    {
      "cell_type": "markdown",
      "source": [
        "##  Question A Side effects if we increase the network size"
      ],
      "metadata": {
        "id": "zAa9cR4E-_vJ"
      }
    },
    {
      "cell_type": "code",
      "source": [
        "import torch\n",
        "import torch.nn as nn\n",
        "import torch.optim as optim\n",
        "import numpy as np\n",
        "import matplotlib.pyplot as plt\n",
        "from sklearn.datasets import fetch_olivetti_faces\n",
        "\n",
        "# Download Olivetti faces dataset\n",
        "olivetti = fetch_olivetti_faces()\n",
        "x = olivetti.images\n",
        "y = olivetti.target\n",
        "\n",
        "# Define the neural network model\n",
        "class Net(nn.Module):\n",
        "    def __init__(self, num_classes=40):\n",
        "        super(Net, self).__init__()\n",
        "        self.conv1 = nn.Conv2d(1, 16, kernel_size=3, padding=1)\n",
        "        self.pool1 = nn.MaxPool2d(kernel_size=2, stride=2)\n",
        "        self.conv2 = nn.Conv2d(16, 32, kernel_size=3, padding=1)\n",
        "        self.pool2 = nn.MaxPool2d(kernel_size=2, stride=2)\n",
        "        self.conv3 = nn.Conv2d(32, 64, kernel_size=3, padding=1)\n",
        "        self.pool3 = nn.MaxPool2d(kernel_size=2, stride=2)\n",
        "        self.fc = nn.Linear(64 * 8 * 8, num_classes)\n",
        "\n",
        "    def forward(self, x):\n",
        "        x = self.conv1(x)\n",
        "        x = nn.functional.relu(x)\n",
        "        x = self.pool1(x)\n",
        "        x = self.conv2(x)\n",
        "        x = nn.functional.relu(x)\n",
        "        x = self.pool2(x)\n",
        "        x = self.conv3(x)\n",
        "        x = nn.functional.relu(x)\n",
        "        x = self.pool3(x)\n",
        "        x = x.view(-1, 64 * 8 * 8)\n",
        "        x = self.fc(x)\n",
        "        return x\n",
        "\n",
        "# Define a function to train the model and return the accuracy\n",
        "def train_and_evaluate(model, x, y):\n",
        "    criterion = nn.CrossEntropyLoss()\n",
        "    optimizer = optim.Adam(model.parameters())\n",
        "\n",
        "    for epoch in range(20):\n",
        "        running_loss = 0.0\n",
        "        for i in range(0, len(x), 32):\n",
        "            inputs = torch.from_numpy(x[i:i+32]).float()\n",
        "            labels = torch.from_numpy(y[i:i+32]).long()\n",
        "            optimizer.zero_grad()\n",
        "            outputs = model(inputs.unsqueeze(1))\n",
        "            loss = criterion(outputs, labels)\n",
        "            loss.backward()\n",
        "            optimizer.step()\n",
        "            running_loss += loss.item()\n",
        "        print('[%d] loss: %.3f' % (epoch + 1, running_loss / len(x)))\n",
        "\n",
        "    _, predicted = torch.max(model(torch.from_numpy(x).unsqueeze(1).float()), 1)\n",
        "    accuracy = (predicted.numpy() == y).mean()\n",
        "    return accuracy\n",
        "\n",
        "# Define a list of numbers of filters for the convolutional layers\n",
        "filter_sizes = [16, 32, 64, 128, 256]\n",
        "\n",
        "# Train and evaluate the models with different filter sizes\n",
        "accuracies = []\n",
        "for size in filter_sizes:\n",
        "    model = Net(num_classes=40)\n",
        "    accuracy = train_and_evaluate(model, x, y)\n",
        "    accuracies.append(accuracy)\n",
        "\n",
        "# Plot the accuracy vs. filter size\n",
        "plt.plot(filter_sizes, accuracies, '-o')\n",
        "plt.xlabel('Filter Size')\n",
        "plt.ylabel('Accuracy')\n",
        "plt.show()\n"
      ],
      "metadata": {
        "colab": {
          "base_uri": "https://localhost:8080/",
          "height": 1000
        },
        "id": "n_DMurLpC15Y",
        "outputId": "cb27dd9c-f43c-477a-9b4c-c7b5e0ce5fe8"
      },
      "execution_count": 9,
      "outputs": [
        {
          "output_type": "stream",
          "name": "stdout",
          "text": [
            "[1] loss: 0.123\n",
            "[2] loss: 0.120\n",
            "[3] loss: 0.120\n",
            "[4] loss: 0.120\n",
            "[5] loss: 0.120\n",
            "[6] loss: 0.120\n",
            "[7] loss: 0.120\n",
            "[8] loss: 0.120\n",
            "[9] loss: 0.120\n",
            "[10] loss: 0.120\n",
            "[11] loss: 0.120\n",
            "[12] loss: 0.120\n",
            "[13] loss: 0.120\n",
            "[14] loss: 0.120\n",
            "[15] loss: 0.120\n",
            "[16] loss: 0.120\n",
            "[17] loss: 0.120\n",
            "[18] loss: 0.120\n",
            "[19] loss: 0.120\n",
            "[20] loss: 0.120\n",
            "[1] loss: 0.124\n",
            "[2] loss: 0.120\n",
            "[3] loss: 0.120\n",
            "[4] loss: 0.120\n",
            "[5] loss: 0.120\n",
            "[6] loss: 0.120\n",
            "[7] loss: 0.120\n",
            "[8] loss: 0.120\n",
            "[9] loss: 0.120\n",
            "[10] loss: 0.120\n",
            "[11] loss: 0.120\n",
            "[12] loss: 0.120\n",
            "[13] loss: 0.120\n",
            "[14] loss: 0.119\n",
            "[15] loss: 0.116\n",
            "[16] loss: 0.112\n",
            "[17] loss: 0.104\n",
            "[18] loss: 0.090\n",
            "[19] loss: 0.078\n",
            "[20] loss: 0.063\n",
            "[1] loss: 0.124\n",
            "[2] loss: 0.120\n",
            "[3] loss: 0.120\n",
            "[4] loss: 0.120\n",
            "[5] loss: 0.120\n",
            "[6] loss: 0.120\n",
            "[7] loss: 0.120\n",
            "[8] loss: 0.120\n",
            "[9] loss: 0.120\n",
            "[10] loss: 0.120\n",
            "[11] loss: 0.119\n",
            "[12] loss: 0.121\n",
            "[13] loss: 0.119\n",
            "[14] loss: 0.118\n",
            "[15] loss: 0.117\n",
            "[16] loss: 0.115\n",
            "[17] loss: 0.113\n",
            "[18] loss: 0.114\n",
            "[19] loss: 0.111\n",
            "[20] loss: 0.104\n",
            "[1] loss: 0.123\n",
            "[2] loss: 0.120\n",
            "[3] loss: 0.120\n",
            "[4] loss: 0.120\n",
            "[5] loss: 0.120\n",
            "[6] loss: 0.120\n",
            "[7] loss: 0.120\n",
            "[8] loss: 0.120\n",
            "[9] loss: 0.117\n",
            "[10] loss: 0.120\n",
            "[11] loss: 0.113\n",
            "[12] loss: 0.110\n",
            "[13] loss: 0.097\n",
            "[14] loss: 0.078\n",
            "[15] loss: 0.057\n",
            "[16] loss: 0.036\n",
            "[17] loss: 0.039\n",
            "[18] loss: 0.067\n",
            "[19] loss: 0.063\n",
            "[20] loss: 0.025\n",
            "[1] loss: 0.124\n",
            "[2] loss: 0.120\n",
            "[3] loss: 0.120\n",
            "[4] loss: 0.120\n",
            "[5] loss: 0.120\n",
            "[6] loss: 0.120\n",
            "[7] loss: 0.120\n",
            "[8] loss: 0.120\n",
            "[9] loss: 0.120\n",
            "[10] loss: 0.124\n",
            "[11] loss: 0.120\n",
            "[12] loss: 0.122\n",
            "[13] loss: 0.122\n",
            "[14] loss: 0.120\n",
            "[15] loss: 0.119\n",
            "[16] loss: 0.119\n",
            "[17] loss: 0.118\n",
            "[18] loss: 0.114\n",
            "[19] loss: 0.115\n",
            "[20] loss: 0.108\n"
          ]
        },
        {
          "output_type": "display_data",
          "data": {
            "text/plain": [
              "<Figure size 432x288 with 1 Axes>"
            ],
            "image/png": "[encoded data removed]"
          },
          "metadata": {
            "needs_background": "light"
          }
        }
      ]
    },
    {
      "cell_type": "markdown",
      "source": [
        "## Question B"
      ],
      "metadata": {
        "id": "73TNmoir-SWC"
      }
    },
    {
      "cell_type": "code",
      "source": [
        "import numpy as np\n",
        "from sklearn.datasets import fetch_olivetti_faces\n",
        "from sklearn.model_selection import train_test_split\n",
        "from tensorflow.keras.models import Sequential\n",
        "from tensorflow.keras.layers import Conv2D, MaxPooling2D, Flatten, Dense\n",
        "\n",
        "# Load Olivetti Faces dataset\n",
        "faces = fetch_olivetti_faces()\n",
        "X = faces.data.reshape(-1, 64, 64, 1)  # Reshape to (n_samples, height, width, channels)\n",
        "y = faces.target\n",
        "\n",
        "# Split dataset into training and testing sets\n",
        "X_train, X_test, y_train, y_test = train_test_split(X, y, test_size=0.2, random_state=42)\n",
        "\n",
        "# Define model architecture\n",
        "model = Sequential()\n",
        "model.add(Conv2D(32, kernel_size=(3, 3), activation='relu', input_shape=(64, 64, 1)))\n",
        "model.add(MaxPooling2D(pool_size=(2, 2)))\n",
        "model.add(Conv2D(64, kernel_size=(3, 3), activation='relu'))\n",
        "model.add(MaxPooling2D(pool_size=(4, 4)))  # Experiment with different pooling sizes here\n",
        "model.add(Flatten())\n",
        "model.add(Dense(128, activation='relu'))\n",
        "model.add(Dense(40, activation='softmax'))\n",
        "\n",
        "# Compile model\n",
        "model.compile(loss='sparse_categorical_crossentropy', optimizer='adam', metrics=['accuracy'])\n",
        "\n",
        "# Train model\n",
        "model.fit(X_train, y_train, epochs=10, batch_size=32, validation_data=(X_test, y_test))\n",
        "\n",
        "# Evaluate model on testing data\n",
        "test_loss, test_acc = model.evaluate(X_test, y_test, verbose=0)\n",
        "print(f'Test accuracy: {test_acc:.4f}')\n",
        "\n"
      ],
      "metadata": {
        "colab": {
          "base_uri": "https://localhost:8080/"
        },
        "id": "6NLwsoO1PyQo",
        "outputId": "a696edaa-f997-4679-f3cf-90913060a239"
      },
      "execution_count": 13,
      "outputs": [
        {
          "output_type": "stream",
          "name": "stdout",
          "text": [
            "Epoch 1/10\n",
            "10/10 [==============================] - 5s 423ms/step - loss: 3.7118 - accuracy: 0.0156 - val_loss: 3.6983 - val_accuracy: 0.0250\n",
            "Epoch 2/10\n",
            "10/10 [==============================] - 2s 244ms/step - loss: 3.6857 - accuracy: 0.0250 - val_loss: 3.6923 - val_accuracy: 0.0250\n",
            "Epoch 3/10\n",
            "10/10 [==============================] - 2s 234ms/step - loss: 3.6779 - accuracy: 0.0750 - val_loss: 3.6999 - val_accuracy: 0.0375\n",
            "Epoch 4/10\n",
            "10/10 [==============================] - 2s 156ms/step - loss: 3.6768 - accuracy: 0.0656 - val_loss: 3.7128 - val_accuracy: 0.0125\n",
            "Epoch 5/10\n",
            "10/10 [==============================] - 2s 155ms/step - loss: 3.6512 - accuracy: 0.0875 - val_loss: 3.7066 - val_accuracy: 0.0375\n",
            "Epoch 6/10\n",
            "10/10 [==============================] - 2s 163ms/step - loss: 3.6279 - accuracy: 0.0844 - val_loss: 3.7036 - val_accuracy: 0.0000e+00\n",
            "Epoch 7/10\n",
            "10/10 [==============================] - 2s 161ms/step - loss: 3.5662 - accuracy: 0.1156 - val_loss: 3.6699 - val_accuracy: 0.0750\n",
            "Epoch 8/10\n",
            "10/10 [==============================] - 2s 158ms/step - loss: 3.4558 - accuracy: 0.2844 - val_loss: 3.5871 - val_accuracy: 0.1625\n",
            "Epoch 9/10\n",
            "10/10 [==============================] - 2s 164ms/step - loss: 3.2519 - accuracy: 0.2906 - val_loss: 3.4396 - val_accuracy: 0.1750\n",
            "Epoch 10/10\n",
            "10/10 [==============================] - 3s 288ms/step - loss: 2.9583 - accuracy: 0.3438 - val_loss: 3.1470 - val_accuracy: 0.2625\n",
            "Test accuracy: 0.2625\n"
          ]
        }
      ]
    },
    {
      "cell_type": "code",
      "source": [
        "import numpy as np\n",
        "from sklearn.datasets import fetch_olivetti_faces\n",
        "from sklearn.model_selection import train_test_split\n",
        "from tensorflow.keras.models import Sequential\n",
        "from tensorflow.keras.layers import Conv2D, MaxPooling2D, Flatten, Dense\n",
        "\n",
        "# Load Olivetti Faces dataset\n",
        "faces = fetch_olivetti_faces()\n",
        "X = faces.data.reshape(-1, 64, 64, 1)  # Reshape to (n_samples, height, width, channels)\n",
        "y = faces.target\n",
        "\n",
        "# Split dataset into training and testing sets\n",
        "X_train, X_test, y_train, y_test = train_test_split(X, y, test_size=0.2, random_state=42)\n",
        "\n",
        "# Define model architecture\n",
        "model = Sequential()\n",
        "model.add(Conv2D(32, kernel_size=(3, 3), activation='relu', input_shape=(64, 64, 1)))\n",
        "model.add(MaxPooling2D(pool_size=(2, 2)))\n",
        "model.add(Conv2D(64, kernel_size=(3, 3), activation='relu'))\n",
        "model.add(MaxPooling2D(pool_size=(10,10)))  # Experiment with different pooling sizes here\n",
        "model.add(Flatten())\n",
        "model.add(Dense(128, activation='relu'))\n",
        "model.add(Dense(40, activation='softmax'))\n",
        "\n",
        "# Compile model\n",
        "model.compile(loss='sparse_categorical_crossentropy', optimizer='adam', metrics=['accuracy'])\n",
        "\n",
        "# Train model\n",
        "model.fit(X_train, y_train, epochs=10, batch_size=32, validation_data=(X_test, y_test))\n",
        "\n",
        "# Evaluate model on testing data\n",
        "test_loss, test_acc = model.evaluate(X_test, y_test, verbose=0)\n",
        "print(f'Test accuracy: {test_acc:.4f}')\n",
        "\n"
      ],
      "metadata": {
        "colab": {
          "base_uri": "https://localhost:8080/"
        },
        "outputId": "887c7f21-4693-440d-8ab4-73af5fb9babd",
        "id": "PdjgnHfdR6vW"
      },
      "execution_count": 14,
      "outputs": [
        {
          "output_type": "stream",
          "name": "stdout",
          "text": [
            "Epoch 1/10\n",
            "10/10 [==============================] - 4s 294ms/step - loss: 3.7027 - accuracy: 0.0312 - val_loss: 3.6980 - val_accuracy: 0.0250\n",
            "Epoch 2/10\n",
            "10/10 [==============================] - 2s 166ms/step - loss: 3.6842 - accuracy: 0.0375 - val_loss: 3.7027 - val_accuracy: 0.0000e+00\n",
            "Epoch 3/10\n",
            "10/10 [==============================] - 3s 277ms/step - loss: 3.6808 - accuracy: 0.0312 - val_loss: 3.7107 - val_accuracy: 0.0000e+00\n",
            "Epoch 4/10\n",
            "10/10 [==============================] - 2s 157ms/step - loss: 3.6738 - accuracy: 0.0312 - val_loss: 3.7197 - val_accuracy: 0.0000e+00\n",
            "Epoch 5/10\n",
            "10/10 [==============================] - 2s 154ms/step - loss: 3.6666 - accuracy: 0.0312 - val_loss: 3.7299 - val_accuracy: 0.0000e+00\n",
            "Epoch 6/10\n",
            "10/10 [==============================] - 2s 155ms/step - loss: 3.6564 - accuracy: 0.0469 - val_loss: 3.7312 - val_accuracy: 0.0000e+00\n",
            "Epoch 7/10\n",
            "10/10 [==============================] - 2s 154ms/step - loss: 3.6447 - accuracy: 0.0437 - val_loss: 3.7539 - val_accuracy: 0.0000e+00\n",
            "Epoch 8/10\n",
            "10/10 [==============================] - 2s 161ms/step - loss: 3.6251 - accuracy: 0.0469 - val_loss: 3.7527 - val_accuracy: 0.0000e+00\n",
            "Epoch 9/10\n",
            "10/10 [==============================] - 2s 154ms/step - loss: 3.6042 - accuracy: 0.0562 - val_loss: 3.7274 - val_accuracy: 0.0000e+00\n",
            "Epoch 10/10\n",
            "10/10 [==============================] - 2s 251ms/step - loss: 3.5747 - accuracy: 0.0688 - val_loss: 3.7503 - val_accuracy: 0.0250\n",
            "Test accuracy: 0.0250\n"
          ]
        }
      ]
    },
    {
      "cell_type": "markdown",
      "source": [
        "## So we can observe that as the pool size increases test accuracy score decreases"
      ],
      "metadata": {
        "id": "_WKUSHp3_vWX"
      }
    },
    {
      "cell_type": "markdown",
      "source": [
        "## Question C"
      ],
      "metadata": {
        "id": "H0poYO8j_WnZ"
      }
    },
    {
      "cell_type": "code",
      "source": [
        "from sklearn.datasets import fetch_olivetti_faces\n",
        "from sklearn.model_selection import train_test_split\n",
        "from sklearn.preprocessing import MinMaxScaler\n",
        "import numpy as np\n",
        "\n",
        "# Load data\n",
        "faces = fetch_olivetti_faces()\n",
        "X = faces.data\n",
        "y = faces.target\n",
        "\n",
        "# Preprocess data\n",
        "scaler = MinMaxScaler()\n",
        "X = scaler.fit_transform(X)\n",
        "\n",
        "# Split data into training and testing sets\n",
        "X_train, X_test, y_train, y_test = train_test_split(X, y, test_size=0.2, random_state=42)\n",
        "\n",
        "from tensorflow.keras.models import Sequential\n",
        "from tensorflow.keras.layers import Dense\n",
        "\n",
        "# Define the model\n",
        "model = Sequential([\n",
        "    Dense(128, activation='relu', input_dim=X.shape[1]),\n",
        "    Dense(40, activation='softmax')\n",
        "])\n",
        "\n",
        "# Compile the model\n",
        "model.compile(optimizer='adam', loss='sparse_categorical_crossentropy', metrics=['accuracy'])\n",
        "\n",
        "# Train the model\n",
        "model.fit(X_train, y_train, epochs=50, validation_data=(X_test, y_test))\n"
      ],
      "metadata": {
        "colab": {
          "base_uri": "https://localhost:8080/"
        },
        "id": "5kQcIYSfNuGc",
        "outputId": "869b11a0-70a5-47c6-b5b3-2a1fa3f89a10"
      },
      "execution_count": 15,
      "outputs": [
        {
          "output_type": "stream",
          "name": "stdout",
          "text": [
            "Epoch 1/50\n",
            "10/10 [==============================] - 1s 55ms/step - loss: 4.1147 - accuracy: 0.0375 - val_loss: 3.7040 - val_accuracy: 0.0375\n",
            "Epoch 2/50\n",
            "10/10 [==============================] - 0s 23ms/step - loss: 3.5908 - accuracy: 0.0375 - val_loss: 3.6146 - val_accuracy: 0.0750\n",
            "Epoch 3/50\n",
            "10/10 [==============================] - 0s 20ms/step - loss: 3.5031 - accuracy: 0.0656 - val_loss: 3.6179 - val_accuracy: 0.0500\n",
            "Epoch 4/50\n",
            "10/10 [==============================] - 0s 21ms/step - loss: 3.4601 - accuracy: 0.0406 - val_loss: 3.5412 - val_accuracy: 0.0875\n",
            "Epoch 5/50\n",
            "10/10 [==============================] - 0s 20ms/step - loss: 3.3867 - accuracy: 0.1219 - val_loss: 3.4806 - val_accuracy: 0.1000\n",
            "Epoch 6/50\n",
            "10/10 [==============================] - 0s 24ms/step - loss: 3.2991 - accuracy: 0.1219 - val_loss: 3.5251 - val_accuracy: 0.0375\n",
            "Epoch 7/50\n",
            "10/10 [==============================] - 0s 22ms/step - loss: 3.2370 - accuracy: 0.1531 - val_loss: 3.4211 - val_accuracy: 0.1000\n",
            "Epoch 8/50\n",
            "10/10 [==============================] - 0s 21ms/step - loss: 3.1723 - accuracy: 0.1844 - val_loss: 3.3290 - val_accuracy: 0.1000\n",
            "Epoch 9/50\n",
            "10/10 [==============================] - 0s 19ms/step - loss: 3.0494 - accuracy: 0.2469 - val_loss: 3.3612 - val_accuracy: 0.1375\n",
            "Epoch 10/50\n",
            "10/10 [==============================] - 0s 19ms/step - loss: 2.9457 - accuracy: 0.2781 - val_loss: 3.2217 - val_accuracy: 0.1625\n",
            "Epoch 11/50\n",
            "10/10 [==============================] - 0s 20ms/step - loss: 2.8682 - accuracy: 0.3156 - val_loss: 3.2850 - val_accuracy: 0.1500\n",
            "Epoch 12/50\n",
            "10/10 [==============================] - 0s 20ms/step - loss: 2.7693 - accuracy: 0.3281 - val_loss: 3.0926 - val_accuracy: 0.1500\n",
            "Epoch 13/50\n",
            "10/10 [==============================] - 0s 19ms/step - loss: 2.6513 - accuracy: 0.3531 - val_loss: 3.0374 - val_accuracy: 0.2125\n",
            "Epoch 14/50\n",
            "10/10 [==============================] - 0s 18ms/step - loss: 2.5642 - accuracy: 0.4000 - val_loss: 2.8845 - val_accuracy: 0.2250\n",
            "Epoch 15/50\n",
            "10/10 [==============================] - 0s 16ms/step - loss: 2.4278 - accuracy: 0.4062 - val_loss: 2.8468 - val_accuracy: 0.2500\n",
            "Epoch 16/50\n",
            "10/10 [==============================] - 0s 19ms/step - loss: 2.3357 - accuracy: 0.4812 - val_loss: 2.9771 - val_accuracy: 0.2000\n",
            "Epoch 17/50\n",
            "10/10 [==============================] - 0s 20ms/step - loss: 2.2347 - accuracy: 0.4563 - val_loss: 2.6573 - val_accuracy: 0.3000\n",
            "Epoch 18/50\n",
            "10/10 [==============================] - 0s 18ms/step - loss: 2.1351 - accuracy: 0.5063 - val_loss: 2.6131 - val_accuracy: 0.2750\n",
            "Epoch 19/50\n",
            "10/10 [==============================] - 0s 18ms/step - loss: 2.0439 - accuracy: 0.5500 - val_loss: 2.4907 - val_accuracy: 0.3375\n",
            "Epoch 20/50\n",
            "10/10 [==============================] - 0s 16ms/step - loss: 1.9442 - accuracy: 0.5562 - val_loss: 2.4239 - val_accuracy: 0.4875\n",
            "Epoch 21/50\n",
            "10/10 [==============================] - 0s 20ms/step - loss: 1.8572 - accuracy: 0.5969 - val_loss: 2.2754 - val_accuracy: 0.4125\n",
            "Epoch 22/50\n",
            "10/10 [==============================] - 0s 18ms/step - loss: 1.7277 - accuracy: 0.6719 - val_loss: 2.1413 - val_accuracy: 0.5375\n",
            "Epoch 23/50\n",
            "10/10 [==============================] - 0s 18ms/step - loss: 1.6441 - accuracy: 0.6812 - val_loss: 2.1542 - val_accuracy: 0.5500\n",
            "Epoch 24/50\n",
            "10/10 [==============================] - 0s 19ms/step - loss: 1.5528 - accuracy: 0.6875 - val_loss: 2.0627 - val_accuracy: 0.4500\n",
            "Epoch 25/50\n",
            "10/10 [==============================] - 0s 19ms/step - loss: 1.5013 - accuracy: 0.7156 - val_loss: 1.9076 - val_accuracy: 0.6250\n",
            "Epoch 26/50\n",
            "10/10 [==============================] - 0s 12ms/step - loss: 1.3913 - accuracy: 0.7344 - val_loss: 1.9189 - val_accuracy: 0.5125\n",
            "Epoch 27/50\n",
            "10/10 [==============================] - 0s 14ms/step - loss: 1.3482 - accuracy: 0.7375 - val_loss: 1.8179 - val_accuracy: 0.5625\n",
            "Epoch 28/50\n",
            "10/10 [==============================] - 0s 13ms/step - loss: 1.2948 - accuracy: 0.7656 - val_loss: 1.7590 - val_accuracy: 0.5750\n",
            "Epoch 29/50\n",
            "10/10 [==============================] - 0s 12ms/step - loss: 1.2172 - accuracy: 0.7812 - val_loss: 1.7152 - val_accuracy: 0.6500\n",
            "Epoch 30/50\n",
            "10/10 [==============================] - 0s 13ms/step - loss: 1.1608 - accuracy: 0.8031 - val_loss: 1.6779 - val_accuracy: 0.5750\n",
            "Epoch 31/50\n",
            "10/10 [==============================] - 0s 13ms/step - loss: 1.1267 - accuracy: 0.8219 - val_loss: 1.5412 - val_accuracy: 0.6875\n",
            "Epoch 32/50\n",
            "10/10 [==============================] - 0s 11ms/step - loss: 1.0597 - accuracy: 0.7969 - val_loss: 1.5284 - val_accuracy: 0.6750\n",
            "Epoch 33/50\n",
            "10/10 [==============================] - 0s 12ms/step - loss: 1.0315 - accuracy: 0.8062 - val_loss: 1.5654 - val_accuracy: 0.6250\n",
            "Epoch 34/50\n",
            "10/10 [==============================] - 0s 14ms/step - loss: 0.9809 - accuracy: 0.8344 - val_loss: 1.4746 - val_accuracy: 0.6625\n",
            "Epoch 35/50\n",
            "10/10 [==============================] - 0s 13ms/step - loss: 0.9300 - accuracy: 0.8313 - val_loss: 1.4082 - val_accuracy: 0.7125\n",
            "Epoch 36/50\n",
            "10/10 [==============================] - 0s 12ms/step - loss: 0.9021 - accuracy: 0.8438 - val_loss: 1.3600 - val_accuracy: 0.6875\n",
            "Epoch 37/50\n",
            "10/10 [==============================] - 0s 11ms/step - loss: 0.8458 - accuracy: 0.8687 - val_loss: 1.3021 - val_accuracy: 0.7000\n",
            "Epoch 38/50\n",
            "10/10 [==============================] - 0s 14ms/step - loss: 0.8065 - accuracy: 0.8719 - val_loss: 1.3536 - val_accuracy: 0.6875\n",
            "Epoch 39/50\n",
            "10/10 [==============================] - 0s 11ms/step - loss: 0.7830 - accuracy: 0.8656 - val_loss: 1.2846 - val_accuracy: 0.7000\n",
            "Epoch 40/50\n",
            "10/10 [==============================] - 0s 12ms/step - loss: 0.7391 - accuracy: 0.8875 - val_loss: 1.2365 - val_accuracy: 0.7500\n",
            "Epoch 41/50\n",
            "10/10 [==============================] - 0s 14ms/step - loss: 0.7157 - accuracy: 0.8656 - val_loss: 1.1633 - val_accuracy: 0.7375\n",
            "Epoch 42/50\n",
            "10/10 [==============================] - 0s 12ms/step - loss: 0.6780 - accuracy: 0.8875 - val_loss: 1.2009 - val_accuracy: 0.7125\n",
            "Epoch 43/50\n",
            "10/10 [==============================] - 0s 14ms/step - loss: 0.6700 - accuracy: 0.8844 - val_loss: 1.1118 - val_accuracy: 0.7125\n",
            "Epoch 44/50\n",
            "10/10 [==============================] - 0s 12ms/step - loss: 0.6305 - accuracy: 0.8938 - val_loss: 1.1139 - val_accuracy: 0.7375\n",
            "Epoch 45/50\n",
            "10/10 [==============================] - 0s 13ms/step - loss: 0.6035 - accuracy: 0.9062 - val_loss: 1.0830 - val_accuracy: 0.7375\n",
            "Epoch 46/50\n",
            "10/10 [==============================] - 0s 12ms/step - loss: 0.6051 - accuracy: 0.8969 - val_loss: 1.0883 - val_accuracy: 0.7625\n",
            "Epoch 47/50\n",
            "10/10 [==============================] - 0s 13ms/step - loss: 0.5654 - accuracy: 0.9125 - val_loss: 1.0345 - val_accuracy: 0.7625\n",
            "Epoch 48/50\n",
            "10/10 [==============================] - 0s 12ms/step - loss: 0.5510 - accuracy: 0.9156 - val_loss: 1.0093 - val_accuracy: 0.7375\n",
            "Epoch 49/50\n",
            "10/10 [==============================] - 0s 14ms/step - loss: 0.5291 - accuracy: 0.9219 - val_loss: 1.0437 - val_accuracy: 0.7750\n",
            "Epoch 50/50\n",
            "10/10 [==============================] - 0s 13ms/step - loss: 0.5029 - accuracy: 0.9281 - val_loss: 0.9418 - val_accuracy: 0.8000\n"
          ]
        },
        {
          "output_type": "execute_result",
          "data": {
            "text/plain": [
              "<keras.callbacks.History at 0x7f14c08bd670>"
            ]
          },
          "metadata": {},
          "execution_count": 15
        }
      ]
    },
    {
      "cell_type": "markdown",
      "source": [
        "In this implementation, we've experimented with different pooling sizes by changing the second MaxPooling2D layer from (2, 2) to (4, 4) larger pooling sizes can lead to more information loss and may result in lower accuracy, while smaller pooling sizes may lead to overfitting."
      ],
      "metadata": {
        "id": "lQ1t7yEb_pPl"
      }
    }
  ]
}